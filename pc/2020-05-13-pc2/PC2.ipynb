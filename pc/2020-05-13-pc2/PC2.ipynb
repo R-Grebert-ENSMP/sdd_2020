{
 "cells": [
  {
   "cell_type": "markdown",
   "metadata": {},
   "source": [
    "# PC 2 : Réduction de dimension - 13 mai 2020"
   ]
  },
  {
   "cell_type": "markdown",
   "metadata": {},
   "source": [
    "Dans ce notebook, nous allons effectuer une analyse en composantes principales d'un jeu de données décrivant les scores obtenus par les meilleurs athlètes ayant participé en 2004 à une épreuve de décathlon, aux Jeux Olympiques d'Athènes ou au Décastar de Talence.\n",
    "\n",
    "Nous utiliserons pour cela la toolbox `scikit-learn` : http://scikit-learn.org/stable/index.html. `scikit-learn` est un ensemble de librairies de machine learning très utilisée et qui implémente la plupart des algorithmes d'apprentissage automatique non-profond. Il s'agit d'un projet Open Source. \n",
    "\n",
    "Dans une deuxième partie facultative, vous pourrez vous essayer à implémenter l'ACP vous-mêmes."
   ]
  },
  {
   "cell_type": "markdown",
   "metadata": {},
   "source": [
    "## Librairies python \n",
    "\n",
    "Ce notebook a été créé avec les versions suivantes des librairies :\n",
    "* numpy 1.18.3\n",
    "* matplotlib 3.1.0\n",
    "* pandas 1.0.3\n",
    "* sklearn 0.22.2\n",
    "\n",
    "Pour vérifier les versions des différentes librairies que vous utilisez, vous pouvez utiliser (après les import correspondant bien sûr) le code\n",
    "```python\n",
    "print(np.__version__)\n",
    "print(matplotlib.__version__)\n",
    "print(pd.__version__)\n",
    "print(sklearn.__version__)\n",
    "```"
   ]
  },
  {
   "cell_type": "code",
   "execution_count": 2,
   "metadata": {},
   "outputs": [
    {
     "name": "stdout",
     "output_type": "stream",
     "text": [
      "Populating the interactive namespace from numpy and matplotlib\n"
     ]
    }
   ],
   "source": [
    "# charger numpy as np, matplotlib as plt\n",
    "%pylab inline "
   ]
  },
  {
   "cell_type": "code",
   "execution_count": 6,
   "metadata": {},
   "outputs": [],
   "source": [
    "plt.rc('font', **{'size': 14}) # règle la taille de police globalement pour les plots (en pt)"
   ]
  },
  {
   "cell_type": "code",
   "execution_count": 8,
   "metadata": {},
   "outputs": [],
   "source": [
    "import pandas as pd"
   ]
  },
  {
   "cell_type": "markdown",
   "metadata": {},
   "source": [
    "## 1. Données"
   ]
  },
  {
   "cell_type": "markdown",
   "metadata": {},
   "source": [
    "Les données sont contenues dans le fichier `../../data/decathlon.txt`.\n",
    "\n",
    "Le fichier contient 42 lignes et 13 colonnes.\n",
    "\n",
    "La première ligne est un en-tête qui décrit les contenus des colonnes.\n",
    "\n",
    "Les lignes suivantes décrivent les 41 athlètes.\n",
    "\n",
    "Les 10 premières colonnes contiennent les scores obtenus aux différentes épreuves.\n",
    "La 11ème colonne contient le classement.\n",
    "La 12ème colonne contient le nombre de points obtenus.\n",
    "La 13ème colonne contient une variable qualitative qui précise l'épreuve (JO ou Décastar) concernée.\n",
    "\n",
    "Nous allons examiner ces données avec la librairie `pandas`."
   ]
  },
  {
   "cell_type": "code",
   "execution_count": 9,
   "metadata": {},
   "outputs": [],
   "source": [
    "import pandas as pd\n",
    "my_data = pd.read_csv('../../data/decathlon.txt', sep=\"\\t\")  # lire les données dans un dataframe"
   ]
  },
  {
   "cell_type": "code",
   "execution_count": 17,
   "metadata": {},
   "outputs": [
    {
     "data": {
      "text/html": [
       "<div>\n",
       "<style scoped>\n",
       "    .dataframe tbody tr th:only-of-type {\n",
       "        vertical-align: middle;\n",
       "    }\n",
       "\n",
       "    .dataframe tbody tr th {\n",
       "        vertical-align: top;\n",
       "    }\n",
       "\n",
       "    .dataframe thead th {\n",
       "        text-align: right;\n",
       "    }\n",
       "</style>\n",
       "<table border=\"1\" class=\"dataframe\">\n",
       "  <thead>\n",
       "    <tr style=\"text-align: right;\">\n",
       "      <th></th>\n",
       "      <th>100m</th>\n",
       "      <th>Long.jump</th>\n",
       "      <th>Shot.put</th>\n",
       "      <th>High.jump</th>\n",
       "      <th>400m</th>\n",
       "      <th>110m.hurdle</th>\n",
       "      <th>Discus</th>\n",
       "      <th>Pole.vault</th>\n",
       "      <th>Javeline</th>\n",
       "      <th>1500m</th>\n",
       "      <th>Rank</th>\n",
       "      <th>Points</th>\n",
       "      <th>Competition</th>\n",
       "    </tr>\n",
       "  </thead>\n",
       "  <tbody>\n",
       "    <tr>\n",
       "      <th>SEBRLE</th>\n",
       "      <td>11.04</td>\n",
       "      <td>7.58</td>\n",
       "      <td>14.83</td>\n",
       "      <td>2.07</td>\n",
       "      <td>49.81</td>\n",
       "      <td>14.69</td>\n",
       "      <td>43.75</td>\n",
       "      <td>5.02</td>\n",
       "      <td>63.19</td>\n",
       "      <td>291.70</td>\n",
       "      <td>1</td>\n",
       "      <td>8217</td>\n",
       "      <td>Decastar</td>\n",
       "    </tr>\n",
       "    <tr>\n",
       "      <th>CLAY</th>\n",
       "      <td>10.76</td>\n",
       "      <td>7.40</td>\n",
       "      <td>14.26</td>\n",
       "      <td>1.86</td>\n",
       "      <td>49.37</td>\n",
       "      <td>14.05</td>\n",
       "      <td>50.72</td>\n",
       "      <td>4.92</td>\n",
       "      <td>60.15</td>\n",
       "      <td>301.50</td>\n",
       "      <td>2</td>\n",
       "      <td>8122</td>\n",
       "      <td>Decastar</td>\n",
       "    </tr>\n",
       "    <tr>\n",
       "      <th>KARPOV</th>\n",
       "      <td>11.02</td>\n",
       "      <td>7.30</td>\n",
       "      <td>14.77</td>\n",
       "      <td>2.04</td>\n",
       "      <td>48.37</td>\n",
       "      <td>14.09</td>\n",
       "      <td>48.95</td>\n",
       "      <td>4.92</td>\n",
       "      <td>50.31</td>\n",
       "      <td>300.20</td>\n",
       "      <td>3</td>\n",
       "      <td>8099</td>\n",
       "      <td>Decastar</td>\n",
       "    </tr>\n",
       "    <tr>\n",
       "      <th>BERNARD</th>\n",
       "      <td>11.02</td>\n",
       "      <td>7.23</td>\n",
       "      <td>14.25</td>\n",
       "      <td>1.92</td>\n",
       "      <td>48.93</td>\n",
       "      <td>14.99</td>\n",
       "      <td>40.87</td>\n",
       "      <td>5.32</td>\n",
       "      <td>62.77</td>\n",
       "      <td>280.10</td>\n",
       "      <td>4</td>\n",
       "      <td>8067</td>\n",
       "      <td>Decastar</td>\n",
       "    </tr>\n",
       "    <tr>\n",
       "      <th>YURKOV</th>\n",
       "      <td>11.34</td>\n",
       "      <td>7.09</td>\n",
       "      <td>15.19</td>\n",
       "      <td>2.10</td>\n",
       "      <td>50.42</td>\n",
       "      <td>15.31</td>\n",
       "      <td>46.26</td>\n",
       "      <td>4.72</td>\n",
       "      <td>63.44</td>\n",
       "      <td>276.40</td>\n",
       "      <td>5</td>\n",
       "      <td>8036</td>\n",
       "      <td>Decastar</td>\n",
       "    </tr>\n",
       "    <tr>\n",
       "      <th>WARNERS</th>\n",
       "      <td>11.11</td>\n",
       "      <td>7.60</td>\n",
       "      <td>14.31</td>\n",
       "      <td>1.98</td>\n",
       "      <td>48.68</td>\n",
       "      <td>14.23</td>\n",
       "      <td>41.10</td>\n",
       "      <td>4.92</td>\n",
       "      <td>51.77</td>\n",
       "      <td>278.10</td>\n",
       "      <td>6</td>\n",
       "      <td>8030</td>\n",
       "      <td>Decastar</td>\n",
       "    </tr>\n",
       "    <tr>\n",
       "      <th>ZSIVOCZKY</th>\n",
       "      <td>11.13</td>\n",
       "      <td>7.30</td>\n",
       "      <td>13.48</td>\n",
       "      <td>2.01</td>\n",
       "      <td>48.62</td>\n",
       "      <td>14.17</td>\n",
       "      <td>45.67</td>\n",
       "      <td>4.42</td>\n",
       "      <td>55.37</td>\n",
       "      <td>268.00</td>\n",
       "      <td>7</td>\n",
       "      <td>8004</td>\n",
       "      <td>Decastar</td>\n",
       "    </tr>\n",
       "    <tr>\n",
       "      <th>McMULLEN</th>\n",
       "      <td>10.83</td>\n",
       "      <td>7.31</td>\n",
       "      <td>13.76</td>\n",
       "      <td>2.13</td>\n",
       "      <td>49.91</td>\n",
       "      <td>14.38</td>\n",
       "      <td>44.41</td>\n",
       "      <td>4.42</td>\n",
       "      <td>56.37</td>\n",
       "      <td>285.10</td>\n",
       "      <td>8</td>\n",
       "      <td>7995</td>\n",
       "      <td>Decastar</td>\n",
       "    </tr>\n",
       "    <tr>\n",
       "      <th>MARTINEAU</th>\n",
       "      <td>11.64</td>\n",
       "      <td>6.81</td>\n",
       "      <td>14.57</td>\n",
       "      <td>1.95</td>\n",
       "      <td>50.14</td>\n",
       "      <td>14.93</td>\n",
       "      <td>47.60</td>\n",
       "      <td>4.92</td>\n",
       "      <td>52.33</td>\n",
       "      <td>262.10</td>\n",
       "      <td>9</td>\n",
       "      <td>7802</td>\n",
       "      <td>Decastar</td>\n",
       "    </tr>\n",
       "    <tr>\n",
       "      <th>HERNU</th>\n",
       "      <td>11.37</td>\n",
       "      <td>7.56</td>\n",
       "      <td>14.41</td>\n",
       "      <td>1.86</td>\n",
       "      <td>51.10</td>\n",
       "      <td>15.06</td>\n",
       "      <td>44.99</td>\n",
       "      <td>4.82</td>\n",
       "      <td>57.19</td>\n",
       "      <td>285.10</td>\n",
       "      <td>10</td>\n",
       "      <td>7733</td>\n",
       "      <td>Decastar</td>\n",
       "    </tr>\n",
       "    <tr>\n",
       "      <th>BARRAS</th>\n",
       "      <td>11.33</td>\n",
       "      <td>6.97</td>\n",
       "      <td>14.09</td>\n",
       "      <td>1.95</td>\n",
       "      <td>49.48</td>\n",
       "      <td>14.48</td>\n",
       "      <td>42.10</td>\n",
       "      <td>4.72</td>\n",
       "      <td>55.40</td>\n",
       "      <td>282.00</td>\n",
       "      <td>11</td>\n",
       "      <td>7708</td>\n",
       "      <td>Decastar</td>\n",
       "    </tr>\n",
       "    <tr>\n",
       "      <th>NOOL</th>\n",
       "      <td>11.33</td>\n",
       "      <td>7.27</td>\n",
       "      <td>12.68</td>\n",
       "      <td>1.98</td>\n",
       "      <td>49.20</td>\n",
       "      <td>15.29</td>\n",
       "      <td>37.92</td>\n",
       "      <td>4.62</td>\n",
       "      <td>57.44</td>\n",
       "      <td>266.60</td>\n",
       "      <td>12</td>\n",
       "      <td>7651</td>\n",
       "      <td>Decastar</td>\n",
       "    </tr>\n",
       "    <tr>\n",
       "      <th>BOURGUIGNON</th>\n",
       "      <td>11.36</td>\n",
       "      <td>6.80</td>\n",
       "      <td>13.46</td>\n",
       "      <td>1.86</td>\n",
       "      <td>51.16</td>\n",
       "      <td>15.67</td>\n",
       "      <td>40.49</td>\n",
       "      <td>5.02</td>\n",
       "      <td>54.68</td>\n",
       "      <td>291.70</td>\n",
       "      <td>13</td>\n",
       "      <td>7313</td>\n",
       "      <td>Decastar</td>\n",
       "    </tr>\n",
       "    <tr>\n",
       "      <th>Sebrle</th>\n",
       "      <td>10.85</td>\n",
       "      <td>7.84</td>\n",
       "      <td>16.36</td>\n",
       "      <td>2.12</td>\n",
       "      <td>48.36</td>\n",
       "      <td>14.05</td>\n",
       "      <td>48.72</td>\n",
       "      <td>5.00</td>\n",
       "      <td>70.52</td>\n",
       "      <td>280.01</td>\n",
       "      <td>1</td>\n",
       "      <td>8893</td>\n",
       "      <td>OlympicG</td>\n",
       "    </tr>\n",
       "    <tr>\n",
       "      <th>Clay</th>\n",
       "      <td>10.44</td>\n",
       "      <td>7.96</td>\n",
       "      <td>15.23</td>\n",
       "      <td>2.06</td>\n",
       "      <td>49.19</td>\n",
       "      <td>14.13</td>\n",
       "      <td>50.11</td>\n",
       "      <td>4.90</td>\n",
       "      <td>69.71</td>\n",
       "      <td>282.00</td>\n",
       "      <td>2</td>\n",
       "      <td>8820</td>\n",
       "      <td>OlympicG</td>\n",
       "    </tr>\n",
       "    <tr>\n",
       "      <th>Karpov</th>\n",
       "      <td>10.50</td>\n",
       "      <td>7.81</td>\n",
       "      <td>15.93</td>\n",
       "      <td>2.09</td>\n",
       "      <td>46.81</td>\n",
       "      <td>13.97</td>\n",
       "      <td>51.65</td>\n",
       "      <td>4.60</td>\n",
       "      <td>55.54</td>\n",
       "      <td>278.11</td>\n",
       "      <td>3</td>\n",
       "      <td>8725</td>\n",
       "      <td>OlympicG</td>\n",
       "    </tr>\n",
       "    <tr>\n",
       "      <th>Macey</th>\n",
       "      <td>10.89</td>\n",
       "      <td>7.47</td>\n",
       "      <td>15.73</td>\n",
       "      <td>2.15</td>\n",
       "      <td>48.97</td>\n",
       "      <td>14.56</td>\n",
       "      <td>48.34</td>\n",
       "      <td>4.40</td>\n",
       "      <td>58.46</td>\n",
       "      <td>265.42</td>\n",
       "      <td>4</td>\n",
       "      <td>8414</td>\n",
       "      <td>OlympicG</td>\n",
       "    </tr>\n",
       "    <tr>\n",
       "      <th>Warners</th>\n",
       "      <td>10.62</td>\n",
       "      <td>7.74</td>\n",
       "      <td>14.48</td>\n",
       "      <td>1.97</td>\n",
       "      <td>47.97</td>\n",
       "      <td>14.01</td>\n",
       "      <td>43.73</td>\n",
       "      <td>4.90</td>\n",
       "      <td>55.39</td>\n",
       "      <td>278.05</td>\n",
       "      <td>5</td>\n",
       "      <td>8343</td>\n",
       "      <td>OlympicG</td>\n",
       "    </tr>\n",
       "    <tr>\n",
       "      <th>Zsivoczky</th>\n",
       "      <td>10.91</td>\n",
       "      <td>7.14</td>\n",
       "      <td>15.31</td>\n",
       "      <td>2.12</td>\n",
       "      <td>49.40</td>\n",
       "      <td>14.95</td>\n",
       "      <td>45.62</td>\n",
       "      <td>4.70</td>\n",
       "      <td>63.45</td>\n",
       "      <td>269.54</td>\n",
       "      <td>6</td>\n",
       "      <td>8287</td>\n",
       "      <td>OlympicG</td>\n",
       "    </tr>\n",
       "    <tr>\n",
       "      <th>Hernu</th>\n",
       "      <td>10.97</td>\n",
       "      <td>7.19</td>\n",
       "      <td>14.65</td>\n",
       "      <td>2.03</td>\n",
       "      <td>48.73</td>\n",
       "      <td>14.25</td>\n",
       "      <td>44.72</td>\n",
       "      <td>4.80</td>\n",
       "      <td>57.76</td>\n",
       "      <td>264.35</td>\n",
       "      <td>7</td>\n",
       "      <td>8237</td>\n",
       "      <td>OlympicG</td>\n",
       "    </tr>\n",
       "    <tr>\n",
       "      <th>Nool</th>\n",
       "      <td>10.80</td>\n",
       "      <td>7.53</td>\n",
       "      <td>14.26</td>\n",
       "      <td>1.88</td>\n",
       "      <td>48.81</td>\n",
       "      <td>14.80</td>\n",
       "      <td>42.05</td>\n",
       "      <td>5.40</td>\n",
       "      <td>61.33</td>\n",
       "      <td>276.33</td>\n",
       "      <td>8</td>\n",
       "      <td>8235</td>\n",
       "      <td>OlympicG</td>\n",
       "    </tr>\n",
       "    <tr>\n",
       "      <th>Bernard</th>\n",
       "      <td>10.69</td>\n",
       "      <td>7.48</td>\n",
       "      <td>14.80</td>\n",
       "      <td>2.12</td>\n",
       "      <td>49.13</td>\n",
       "      <td>14.17</td>\n",
       "      <td>44.75</td>\n",
       "      <td>4.40</td>\n",
       "      <td>55.27</td>\n",
       "      <td>276.31</td>\n",
       "      <td>9</td>\n",
       "      <td>8225</td>\n",
       "      <td>OlympicG</td>\n",
       "    </tr>\n",
       "    <tr>\n",
       "      <th>Schwarzl</th>\n",
       "      <td>10.98</td>\n",
       "      <td>7.49</td>\n",
       "      <td>14.01</td>\n",
       "      <td>1.94</td>\n",
       "      <td>49.76</td>\n",
       "      <td>14.25</td>\n",
       "      <td>42.43</td>\n",
       "      <td>5.10</td>\n",
       "      <td>56.32</td>\n",
       "      <td>273.56</td>\n",
       "      <td>10</td>\n",
       "      <td>8102</td>\n",
       "      <td>OlympicG</td>\n",
       "    </tr>\n",
       "    <tr>\n",
       "      <th>Pogorelov</th>\n",
       "      <td>10.95</td>\n",
       "      <td>7.31</td>\n",
       "      <td>15.10</td>\n",
       "      <td>2.06</td>\n",
       "      <td>50.79</td>\n",
       "      <td>14.21</td>\n",
       "      <td>44.60</td>\n",
       "      <td>5.00</td>\n",
       "      <td>53.45</td>\n",
       "      <td>287.63</td>\n",
       "      <td>11</td>\n",
       "      <td>8084</td>\n",
       "      <td>OlympicG</td>\n",
       "    </tr>\n",
       "    <tr>\n",
       "      <th>Schoenbeck</th>\n",
       "      <td>10.90</td>\n",
       "      <td>7.30</td>\n",
       "      <td>14.77</td>\n",
       "      <td>1.88</td>\n",
       "      <td>50.30</td>\n",
       "      <td>14.34</td>\n",
       "      <td>44.41</td>\n",
       "      <td>5.00</td>\n",
       "      <td>60.89</td>\n",
       "      <td>278.82</td>\n",
       "      <td>12</td>\n",
       "      <td>8077</td>\n",
       "      <td>OlympicG</td>\n",
       "    </tr>\n",
       "    <tr>\n",
       "      <th>Barras</th>\n",
       "      <td>11.14</td>\n",
       "      <td>6.99</td>\n",
       "      <td>14.91</td>\n",
       "      <td>1.94</td>\n",
       "      <td>49.41</td>\n",
       "      <td>14.37</td>\n",
       "      <td>44.83</td>\n",
       "      <td>4.60</td>\n",
       "      <td>64.55</td>\n",
       "      <td>267.09</td>\n",
       "      <td>13</td>\n",
       "      <td>8067</td>\n",
       "      <td>OlympicG</td>\n",
       "    </tr>\n",
       "    <tr>\n",
       "      <th>Smith</th>\n",
       "      <td>10.85</td>\n",
       "      <td>6.81</td>\n",
       "      <td>15.24</td>\n",
       "      <td>1.91</td>\n",
       "      <td>49.27</td>\n",
       "      <td>14.01</td>\n",
       "      <td>49.02</td>\n",
       "      <td>4.20</td>\n",
       "      <td>61.52</td>\n",
       "      <td>272.74</td>\n",
       "      <td>14</td>\n",
       "      <td>8023</td>\n",
       "      <td>OlympicG</td>\n",
       "    </tr>\n",
       "    <tr>\n",
       "      <th>Averyanov</th>\n",
       "      <td>10.55</td>\n",
       "      <td>7.34</td>\n",
       "      <td>14.44</td>\n",
       "      <td>1.94</td>\n",
       "      <td>49.72</td>\n",
       "      <td>14.39</td>\n",
       "      <td>39.88</td>\n",
       "      <td>4.80</td>\n",
       "      <td>54.51</td>\n",
       "      <td>271.02</td>\n",
       "      <td>15</td>\n",
       "      <td>8021</td>\n",
       "      <td>OlympicG</td>\n",
       "    </tr>\n",
       "    <tr>\n",
       "      <th>Ojaniemi</th>\n",
       "      <td>10.68</td>\n",
       "      <td>7.50</td>\n",
       "      <td>14.97</td>\n",
       "      <td>1.94</td>\n",
       "      <td>49.12</td>\n",
       "      <td>15.01</td>\n",
       "      <td>40.35</td>\n",
       "      <td>4.60</td>\n",
       "      <td>59.26</td>\n",
       "      <td>275.71</td>\n",
       "      <td>16</td>\n",
       "      <td>8006</td>\n",
       "      <td>OlympicG</td>\n",
       "    </tr>\n",
       "    <tr>\n",
       "      <th>Smirnov</th>\n",
       "      <td>10.89</td>\n",
       "      <td>7.07</td>\n",
       "      <td>13.88</td>\n",
       "      <td>1.94</td>\n",
       "      <td>49.11</td>\n",
       "      <td>14.77</td>\n",
       "      <td>42.47</td>\n",
       "      <td>4.70</td>\n",
       "      <td>60.88</td>\n",
       "      <td>263.31</td>\n",
       "      <td>17</td>\n",
       "      <td>7993</td>\n",
       "      <td>OlympicG</td>\n",
       "    </tr>\n",
       "    <tr>\n",
       "      <th>Qi</th>\n",
       "      <td>11.06</td>\n",
       "      <td>7.34</td>\n",
       "      <td>13.55</td>\n",
       "      <td>1.97</td>\n",
       "      <td>49.65</td>\n",
       "      <td>14.78</td>\n",
       "      <td>45.13</td>\n",
       "      <td>4.50</td>\n",
       "      <td>60.79</td>\n",
       "      <td>272.63</td>\n",
       "      <td>18</td>\n",
       "      <td>7934</td>\n",
       "      <td>OlympicG</td>\n",
       "    </tr>\n",
       "    <tr>\n",
       "      <th>Drews</th>\n",
       "      <td>10.87</td>\n",
       "      <td>7.38</td>\n",
       "      <td>13.07</td>\n",
       "      <td>1.88</td>\n",
       "      <td>48.51</td>\n",
       "      <td>14.01</td>\n",
       "      <td>40.11</td>\n",
       "      <td>5.00</td>\n",
       "      <td>51.53</td>\n",
       "      <td>274.21</td>\n",
       "      <td>19</td>\n",
       "      <td>7926</td>\n",
       "      <td>OlympicG</td>\n",
       "    </tr>\n",
       "    <tr>\n",
       "      <th>Parkhomenko</th>\n",
       "      <td>11.14</td>\n",
       "      <td>6.61</td>\n",
       "      <td>15.69</td>\n",
       "      <td>2.03</td>\n",
       "      <td>51.04</td>\n",
       "      <td>14.88</td>\n",
       "      <td>41.90</td>\n",
       "      <td>4.80</td>\n",
       "      <td>65.82</td>\n",
       "      <td>277.94</td>\n",
       "      <td>20</td>\n",
       "      <td>7918</td>\n",
       "      <td>OlympicG</td>\n",
       "    </tr>\n",
       "    <tr>\n",
       "      <th>Terek</th>\n",
       "      <td>10.92</td>\n",
       "      <td>6.94</td>\n",
       "      <td>15.15</td>\n",
       "      <td>1.94</td>\n",
       "      <td>49.56</td>\n",
       "      <td>15.12</td>\n",
       "      <td>45.62</td>\n",
       "      <td>5.30</td>\n",
       "      <td>50.62</td>\n",
       "      <td>290.36</td>\n",
       "      <td>21</td>\n",
       "      <td>7893</td>\n",
       "      <td>OlympicG</td>\n",
       "    </tr>\n",
       "    <tr>\n",
       "      <th>Gomez</th>\n",
       "      <td>11.08</td>\n",
       "      <td>7.26</td>\n",
       "      <td>14.57</td>\n",
       "      <td>1.85</td>\n",
       "      <td>48.61</td>\n",
       "      <td>14.41</td>\n",
       "      <td>40.95</td>\n",
       "      <td>4.40</td>\n",
       "      <td>60.71</td>\n",
       "      <td>269.70</td>\n",
       "      <td>22</td>\n",
       "      <td>7865</td>\n",
       "      <td>OlympicG</td>\n",
       "    </tr>\n",
       "    <tr>\n",
       "      <th>Turi</th>\n",
       "      <td>11.08</td>\n",
       "      <td>6.91</td>\n",
       "      <td>13.62</td>\n",
       "      <td>2.03</td>\n",
       "      <td>51.67</td>\n",
       "      <td>14.26</td>\n",
       "      <td>39.83</td>\n",
       "      <td>4.80</td>\n",
       "      <td>59.34</td>\n",
       "      <td>290.01</td>\n",
       "      <td>23</td>\n",
       "      <td>7708</td>\n",
       "      <td>OlympicG</td>\n",
       "    </tr>\n",
       "    <tr>\n",
       "      <th>Lorenzo</th>\n",
       "      <td>11.10</td>\n",
       "      <td>7.03</td>\n",
       "      <td>13.22</td>\n",
       "      <td>1.85</td>\n",
       "      <td>49.34</td>\n",
       "      <td>15.38</td>\n",
       "      <td>40.22</td>\n",
       "      <td>4.50</td>\n",
       "      <td>58.36</td>\n",
       "      <td>263.08</td>\n",
       "      <td>24</td>\n",
       "      <td>7592</td>\n",
       "      <td>OlympicG</td>\n",
       "    </tr>\n",
       "    <tr>\n",
       "      <th>Karlivans</th>\n",
       "      <td>11.33</td>\n",
       "      <td>7.26</td>\n",
       "      <td>13.30</td>\n",
       "      <td>1.97</td>\n",
       "      <td>50.54</td>\n",
       "      <td>14.98</td>\n",
       "      <td>43.34</td>\n",
       "      <td>4.50</td>\n",
       "      <td>52.92</td>\n",
       "      <td>278.67</td>\n",
       "      <td>25</td>\n",
       "      <td>7583</td>\n",
       "      <td>OlympicG</td>\n",
       "    </tr>\n",
       "    <tr>\n",
       "      <th>Korkizoglou</th>\n",
       "      <td>10.86</td>\n",
       "      <td>7.07</td>\n",
       "      <td>14.81</td>\n",
       "      <td>1.94</td>\n",
       "      <td>51.16</td>\n",
       "      <td>14.96</td>\n",
       "      <td>46.07</td>\n",
       "      <td>4.70</td>\n",
       "      <td>53.05</td>\n",
       "      <td>317.00</td>\n",
       "      <td>26</td>\n",
       "      <td>7573</td>\n",
       "      <td>OlympicG</td>\n",
       "    </tr>\n",
       "    <tr>\n",
       "      <th>Uldal</th>\n",
       "      <td>11.23</td>\n",
       "      <td>6.99</td>\n",
       "      <td>13.53</td>\n",
       "      <td>1.85</td>\n",
       "      <td>50.95</td>\n",
       "      <td>15.09</td>\n",
       "      <td>43.01</td>\n",
       "      <td>4.50</td>\n",
       "      <td>60.00</td>\n",
       "      <td>281.70</td>\n",
       "      <td>27</td>\n",
       "      <td>7495</td>\n",
       "      <td>OlympicG</td>\n",
       "    </tr>\n",
       "    <tr>\n",
       "      <th>Casarsa</th>\n",
       "      <td>11.36</td>\n",
       "      <td>6.68</td>\n",
       "      <td>14.92</td>\n",
       "      <td>1.94</td>\n",
       "      <td>53.20</td>\n",
       "      <td>15.39</td>\n",
       "      <td>48.66</td>\n",
       "      <td>4.40</td>\n",
       "      <td>58.62</td>\n",
       "      <td>296.12</td>\n",
       "      <td>28</td>\n",
       "      <td>7404</td>\n",
       "      <td>OlympicG</td>\n",
       "    </tr>\n",
       "  </tbody>\n",
       "</table>\n",
       "</div>"
      ],
      "text/plain": [
       "              100m  Long.jump  Shot.put  High.jump   400m  110m.hurdle  \\\n",
       "SEBRLE       11.04       7.58     14.83       2.07  49.81        14.69   \n",
       "CLAY         10.76       7.40     14.26       1.86  49.37        14.05   \n",
       "KARPOV       11.02       7.30     14.77       2.04  48.37        14.09   \n",
       "BERNARD      11.02       7.23     14.25       1.92  48.93        14.99   \n",
       "YURKOV       11.34       7.09     15.19       2.10  50.42        15.31   \n",
       "WARNERS      11.11       7.60     14.31       1.98  48.68        14.23   \n",
       "ZSIVOCZKY    11.13       7.30     13.48       2.01  48.62        14.17   \n",
       "McMULLEN     10.83       7.31     13.76       2.13  49.91        14.38   \n",
       "MARTINEAU    11.64       6.81     14.57       1.95  50.14        14.93   \n",
       "HERNU        11.37       7.56     14.41       1.86  51.10        15.06   \n",
       "BARRAS       11.33       6.97     14.09       1.95  49.48        14.48   \n",
       "NOOL         11.33       7.27     12.68       1.98  49.20        15.29   \n",
       "BOURGUIGNON  11.36       6.80     13.46       1.86  51.16        15.67   \n",
       "Sebrle       10.85       7.84     16.36       2.12  48.36        14.05   \n",
       "Clay         10.44       7.96     15.23       2.06  49.19        14.13   \n",
       "Karpov       10.50       7.81     15.93       2.09  46.81        13.97   \n",
       "Macey        10.89       7.47     15.73       2.15  48.97        14.56   \n",
       "Warners      10.62       7.74     14.48       1.97  47.97        14.01   \n",
       "Zsivoczky    10.91       7.14     15.31       2.12  49.40        14.95   \n",
       "Hernu        10.97       7.19     14.65       2.03  48.73        14.25   \n",
       "Nool         10.80       7.53     14.26       1.88  48.81        14.80   \n",
       "Bernard      10.69       7.48     14.80       2.12  49.13        14.17   \n",
       "Schwarzl     10.98       7.49     14.01       1.94  49.76        14.25   \n",
       "Pogorelov    10.95       7.31     15.10       2.06  50.79        14.21   \n",
       "Schoenbeck   10.90       7.30     14.77       1.88  50.30        14.34   \n",
       "Barras       11.14       6.99     14.91       1.94  49.41        14.37   \n",
       "Smith        10.85       6.81     15.24       1.91  49.27        14.01   \n",
       "Averyanov    10.55       7.34     14.44       1.94  49.72        14.39   \n",
       "Ojaniemi     10.68       7.50     14.97       1.94  49.12        15.01   \n",
       "Smirnov      10.89       7.07     13.88       1.94  49.11        14.77   \n",
       "Qi           11.06       7.34     13.55       1.97  49.65        14.78   \n",
       "Drews        10.87       7.38     13.07       1.88  48.51        14.01   \n",
       "Parkhomenko  11.14       6.61     15.69       2.03  51.04        14.88   \n",
       "Terek        10.92       6.94     15.15       1.94  49.56        15.12   \n",
       "Gomez        11.08       7.26     14.57       1.85  48.61        14.41   \n",
       "Turi         11.08       6.91     13.62       2.03  51.67        14.26   \n",
       "Lorenzo      11.10       7.03     13.22       1.85  49.34        15.38   \n",
       "Karlivans    11.33       7.26     13.30       1.97  50.54        14.98   \n",
       "Korkizoglou  10.86       7.07     14.81       1.94  51.16        14.96   \n",
       "Uldal        11.23       6.99     13.53       1.85  50.95        15.09   \n",
       "Casarsa      11.36       6.68     14.92       1.94  53.20        15.39   \n",
       "\n",
       "             Discus  Pole.vault  Javeline   1500m  Rank  Points Competition  \n",
       "SEBRLE        43.75        5.02     63.19  291.70     1    8217    Decastar  \n",
       "CLAY          50.72        4.92     60.15  301.50     2    8122    Decastar  \n",
       "KARPOV        48.95        4.92     50.31  300.20     3    8099    Decastar  \n",
       "BERNARD       40.87        5.32     62.77  280.10     4    8067    Decastar  \n",
       "YURKOV        46.26        4.72     63.44  276.40     5    8036    Decastar  \n",
       "WARNERS       41.10        4.92     51.77  278.10     6    8030    Decastar  \n",
       "ZSIVOCZKY     45.67        4.42     55.37  268.00     7    8004    Decastar  \n",
       "McMULLEN      44.41        4.42     56.37  285.10     8    7995    Decastar  \n",
       "MARTINEAU     47.60        4.92     52.33  262.10     9    7802    Decastar  \n",
       "HERNU         44.99        4.82     57.19  285.10    10    7733    Decastar  \n",
       "BARRAS        42.10        4.72     55.40  282.00    11    7708    Decastar  \n",
       "NOOL          37.92        4.62     57.44  266.60    12    7651    Decastar  \n",
       "BOURGUIGNON   40.49        5.02     54.68  291.70    13    7313    Decastar  \n",
       "Sebrle        48.72        5.00     70.52  280.01     1    8893    OlympicG  \n",
       "Clay          50.11        4.90     69.71  282.00     2    8820    OlympicG  \n",
       "Karpov        51.65        4.60     55.54  278.11     3    8725    OlympicG  \n",
       "Macey         48.34        4.40     58.46  265.42     4    8414    OlympicG  \n",
       "Warners       43.73        4.90     55.39  278.05     5    8343    OlympicG  \n",
       "Zsivoczky     45.62        4.70     63.45  269.54     6    8287    OlympicG  \n",
       "Hernu         44.72        4.80     57.76  264.35     7    8237    OlympicG  \n",
       "Nool          42.05        5.40     61.33  276.33     8    8235    OlympicG  \n",
       "Bernard       44.75        4.40     55.27  276.31     9    8225    OlympicG  \n",
       "Schwarzl      42.43        5.10     56.32  273.56    10    8102    OlympicG  \n",
       "Pogorelov     44.60        5.00     53.45  287.63    11    8084    OlympicG  \n",
       "Schoenbeck    44.41        5.00     60.89  278.82    12    8077    OlympicG  \n",
       "Barras        44.83        4.60     64.55  267.09    13    8067    OlympicG  \n",
       "Smith         49.02        4.20     61.52  272.74    14    8023    OlympicG  \n",
       "Averyanov     39.88        4.80     54.51  271.02    15    8021    OlympicG  \n",
       "Ojaniemi      40.35        4.60     59.26  275.71    16    8006    OlympicG  \n",
       "Smirnov       42.47        4.70     60.88  263.31    17    7993    OlympicG  \n",
       "Qi            45.13        4.50     60.79  272.63    18    7934    OlympicG  \n",
       "Drews         40.11        5.00     51.53  274.21    19    7926    OlympicG  \n",
       "Parkhomenko   41.90        4.80     65.82  277.94    20    7918    OlympicG  \n",
       "Terek         45.62        5.30     50.62  290.36    21    7893    OlympicG  \n",
       "Gomez         40.95        4.40     60.71  269.70    22    7865    OlympicG  \n",
       "Turi          39.83        4.80     59.34  290.01    23    7708    OlympicG  \n",
       "Lorenzo       40.22        4.50     58.36  263.08    24    7592    OlympicG  \n",
       "Karlivans     43.34        4.50     52.92  278.67    25    7583    OlympicG  \n",
       "Korkizoglou   46.07        4.70     53.05  317.00    26    7573    OlympicG  \n",
       "Uldal         43.01        4.50     60.00  281.70    27    7495    OlympicG  \n",
       "Casarsa       48.66        4.40     58.62  296.12    28    7404    OlympicG  "
      ]
     },
     "execution_count": 17,
     "metadata": {},
     "output_type": "execute_result"
    }
   ],
   "source": [
    "my_data.head()\n",
    "\n"
   ]
  },
  {
   "cell_type": "markdown",
   "metadata": {},
   "source": [
    "## 2. Quelques rappels sur `pandas`\n",
    "\n",
    "Assurez-vous que vous comprenez l'usage des fonctionalités ci-dessous"
   ]
  },
  {
   "cell_type": "code",
   "execution_count": 15,
   "metadata": {
    "jupyter": {
     "outputs_hidden": false
    }
   },
   "outputs": [
    {
     "name": "stdout",
     "output_type": "stream",
     "text": [
      "['100m', 'Long.jump', 'Shot.put', 'High.jump', '400m', '110m.hurdle', 'Discus', 'Pole.vault', 'Javeline', '1500m', 'Rank', 'Points', 'Competition']\n",
      "Index(['100m', 'Long.jump', 'Shot.put', 'High.jump', '400m', '110m.hurdle',\n",
      "       'Discus', 'Pole.vault', 'Javeline', '1500m', 'Rank', 'Points',\n",
      "       'Competition'],\n",
      "      dtype='object')\n"
     ]
    }
   ],
   "source": [
    "# Lister les noms des colonnes\n",
    "my_columns = list(my_data.columns) \n",
    "print(my_columns)\n",
    "print(my_data.columns)\n"
   ]
  },
  {
   "cell_type": "code",
   "execution_count": 16,
   "metadata": {},
   "outputs": [
    {
     "data": {
      "text/plain": [
       "SEBRLE     11.04\n",
       "CLAY       10.76\n",
       "KARPOV     11.02\n",
       "BERNARD    11.02\n",
       "YURKOV     11.34\n",
       "Name: 100m, dtype: float64"
      ]
     },
     "execution_count": 16,
     "metadata": {},
     "output_type": "execute_result"
    }
   ],
   "source": [
    "# Sélectionner une colonne\n",
    "my_data['100m'].head()"
   ]
  },
  {
   "cell_type": "code",
   "execution_count": null,
   "metadata": {},
   "outputs": [],
   "source": [
    "# Sélectionner plusieurs colonnes\n",
    "columns = ['100m', '400m']\n",
    "my_data[columns].head()"
   ]
  },
  {
   "cell_type": "code",
   "execution_count": 20,
   "metadata": {},
   "outputs": [
    {
     "data": {
      "text/html": [
       "<div>\n",
       "<style scoped>\n",
       "    .dataframe tbody tr th:only-of-type {\n",
       "        vertical-align: middle;\n",
       "    }\n",
       "\n",
       "    .dataframe tbody tr th {\n",
       "        vertical-align: top;\n",
       "    }\n",
       "\n",
       "    .dataframe thead th {\n",
       "        text-align: right;\n",
       "    }\n",
       "</style>\n",
       "<table border=\"1\" class=\"dataframe\">\n",
       "  <thead>\n",
       "    <tr style=\"text-align: right;\">\n",
       "      <th></th>\n",
       "      <th>100m</th>\n",
       "      <th>Long.jump</th>\n",
       "      <th>Shot.put</th>\n",
       "      <th>High.jump</th>\n",
       "      <th>400m</th>\n",
       "      <th>110m.hurdle</th>\n",
       "      <th>Discus</th>\n",
       "      <th>Pole.vault</th>\n",
       "      <th>Javeline</th>\n",
       "      <th>1500m</th>\n",
       "      <th>Rank</th>\n",
       "      <th>Points</th>\n",
       "      <th>Competition</th>\n",
       "    </tr>\n",
       "  </thead>\n",
       "  <tbody>\n",
       "    <tr>\n",
       "      <th>Sebrle</th>\n",
       "      <td>10.85</td>\n",
       "      <td>7.84</td>\n",
       "      <td>16.36</td>\n",
       "      <td>2.12</td>\n",
       "      <td>48.36</td>\n",
       "      <td>14.05</td>\n",
       "      <td>48.72</td>\n",
       "      <td>5.0</td>\n",
       "      <td>70.52</td>\n",
       "      <td>280.01</td>\n",
       "      <td>1</td>\n",
       "      <td>8893</td>\n",
       "      <td>OlympicG</td>\n",
       "    </tr>\n",
       "    <tr>\n",
       "      <th>Clay</th>\n",
       "      <td>10.44</td>\n",
       "      <td>7.96</td>\n",
       "      <td>15.23</td>\n",
       "      <td>2.06</td>\n",
       "      <td>49.19</td>\n",
       "      <td>14.13</td>\n",
       "      <td>50.11</td>\n",
       "      <td>4.9</td>\n",
       "      <td>69.71</td>\n",
       "      <td>282.00</td>\n",
       "      <td>2</td>\n",
       "      <td>8820</td>\n",
       "      <td>OlympicG</td>\n",
       "    </tr>\n",
       "    <tr>\n",
       "      <th>Karpov</th>\n",
       "      <td>10.50</td>\n",
       "      <td>7.81</td>\n",
       "      <td>15.93</td>\n",
       "      <td>2.09</td>\n",
       "      <td>46.81</td>\n",
       "      <td>13.97</td>\n",
       "      <td>51.65</td>\n",
       "      <td>4.6</td>\n",
       "      <td>55.54</td>\n",
       "      <td>278.11</td>\n",
       "      <td>3</td>\n",
       "      <td>8725</td>\n",
       "      <td>OlympicG</td>\n",
       "    </tr>\n",
       "    <tr>\n",
       "      <th>Macey</th>\n",
       "      <td>10.89</td>\n",
       "      <td>7.47</td>\n",
       "      <td>15.73</td>\n",
       "      <td>2.15</td>\n",
       "      <td>48.97</td>\n",
       "      <td>14.56</td>\n",
       "      <td>48.34</td>\n",
       "      <td>4.4</td>\n",
       "      <td>58.46</td>\n",
       "      <td>265.42</td>\n",
       "      <td>4</td>\n",
       "      <td>8414</td>\n",
       "      <td>OlympicG</td>\n",
       "    </tr>\n",
       "    <tr>\n",
       "      <th>Warners</th>\n",
       "      <td>10.62</td>\n",
       "      <td>7.74</td>\n",
       "      <td>14.48</td>\n",
       "      <td>1.97</td>\n",
       "      <td>47.97</td>\n",
       "      <td>14.01</td>\n",
       "      <td>43.73</td>\n",
       "      <td>4.9</td>\n",
       "      <td>55.39</td>\n",
       "      <td>278.05</td>\n",
       "      <td>5</td>\n",
       "      <td>8343</td>\n",
       "      <td>OlympicG</td>\n",
       "    </tr>\n",
       "  </tbody>\n",
       "</table>\n",
       "</div>"
      ],
      "text/plain": [
       "          100m  Long.jump  Shot.put  High.jump   400m  110m.hurdle  Discus  \\\n",
       "Sebrle   10.85       7.84     16.36       2.12  48.36        14.05   48.72   \n",
       "Clay     10.44       7.96     15.23       2.06  49.19        14.13   50.11   \n",
       "Karpov   10.50       7.81     15.93       2.09  46.81        13.97   51.65   \n",
       "Macey    10.89       7.47     15.73       2.15  48.97        14.56   48.34   \n",
       "Warners  10.62       7.74     14.48       1.97  47.97        14.01   43.73   \n",
       "\n",
       "         Pole.vault  Javeline   1500m  Rank  Points Competition  \n",
       "Sebrle          5.0     70.52  280.01     1    8893    OlympicG  \n",
       "Clay            4.9     69.71  282.00     2    8820    OlympicG  \n",
       "Karpov          4.6     55.54  278.11     3    8725    OlympicG  \n",
       "Macey           4.4     58.46  265.42     4    8414    OlympicG  \n",
       "Warners         4.9     55.39  278.05     5    8343    OlympicG  "
      ]
     },
     "execution_count": 20,
     "metadata": {},
     "output_type": "execute_result"
    }
   ],
   "source": [
    "# Sélectionner des lignes à partir de la valeur d'une colonne\n",
    "my_data[my_data['Competition']=='OlympicG'].head()"
   ]
  },
  {
   "cell_type": "code",
   "execution_count": 21,
   "metadata": {
    "jupyter": {
     "outputs_hidden": false
    }
   },
   "outputs": [
    {
     "name": "stdout",
     "output_type": "stream",
     "text": [
      "(41, 13)\n"
     ]
    }
   ],
   "source": [
    "# Dimensions des données\n",
    "print(my_data.shape)  "
   ]
  },
  {
   "cell_type": "code",
   "execution_count": 22,
   "metadata": {},
   "outputs": [
    {
     "name": "stdout",
     "output_type": "stream",
     "text": [
      "<class 'numpy.ndarray'>\n",
      "(41, 13)\n"
     ]
    }
   ],
   "source": [
    "# Valeurs du tableau sous forme d'array numpy\n",
    "my_data_values = my_data.values\n",
    "print(type(my_data_values))\n",
    "print(my_data_values.shape)"
   ]
  },
  {
   "cell_type": "code",
   "execution_count": 23,
   "metadata": {
    "jupyter": {
     "outputs_hidden": false
    }
   },
   "outputs": [
    {
     "name": "stdout",
     "output_type": "stream",
     "text": [
      "100m           float64\n",
      "Long.jump      float64\n",
      "Shot.put       float64\n",
      "High.jump      float64\n",
      "400m           float64\n",
      "110m.hurdle    float64\n",
      "Discus         float64\n",
      "Pole.vault     float64\n",
      "Javeline       float64\n",
      "1500m          float64\n",
      "Rank             int64\n",
      "Points           int64\n",
      "Competition     object\n",
      "dtype: object\n"
     ]
    }
   ],
   "source": [
    "# Type des colonnes\n",
    "print(my_data.dtypes)  "
   ]
  },
  {
   "cell_type": "markdown",
   "metadata": {},
   "source": [
    "## 3. Exploration des données"
   ]
  },
  {
   "cell_type": "markdown",
   "metadata": {},
   "source": [
    "### 3.1. Couples de variables\n",
    "Représentons les différents athlètes selon leur performance au 400m et au lancer du poids (`Shot.put`)"
   ]
  },
  {
   "cell_type": "code",
   "execution_count": 24,
   "metadata": {},
   "outputs": [
    {
     "data": {
      "text/plain": [
       "Text(0, 0.5, 'Performance au lancer du poids')"
      ]
     },
     "execution_count": 24,
     "metadata": {},
     "output_type": "execute_result"
    },
    {
     "data": {
      "image/png": "[encoded data removed]",
      "text/plain": [
       "<Figure size 432x288 with 1 Axes>"
      ]
     },
     "metadata": {
      "needs_background": "light"
     },
     "output_type": "display_data"
    }
   ],
   "source": [
    "plt.scatter(my_data['400m'], my_data['Shot.put'], s=50)\n",
    "\n",
    "plt.xlabel('Performance au 400m')\n",
    "plt.ylabel('Performance au lancer du poids')"
   ]
  },
  {
   "cell_type": "markdown",
   "metadata": {},
   "source": [
    "Les fourchettes de valeur prises par ces deux variables sont différentes, leurs unités aussi. Pour mieux les comparer il est souhaitable de les standardiser."
   ]
  },
  {
   "cell_type": "code",
   "execution_count": 25,
   "metadata": {},
   "outputs": [
    {
     "data": {
      "text/plain": [
       "Text(0, 0.5, 'Lancer du poids (performance standardisée)')"
      ]
     },
     "execution_count": 25,
     "metadata": {},
     "output_type": "execute_result"
    },
    {
     "data": {
      "image/png": "[encoded data removed]",
      "text/plain": [
       "<Figure size 360x360 with 1 Axes>"
      ]
     },
     "metadata": {
      "needs_background": "light"
     },
     "output_type": "display_data"
    }
   ],
   "source": [
    "fig = plt.figure(figsize=(5, 5)) # forcer une figure carrée\n",
    "\n",
    "data_400m_std = (my_data['400m'] - np.mean(my_data['400m']))/(np.std(my_data['400m']))\n",
    "data_shotput_std = (my_data['Shot.put'] - np.mean(my_data['Shot.put']))/(np.std(my_data['Shot.put']))\n",
    "\n",
    "\n",
    "plt.scatter(data_400m_std, data_shotput_std, s=50)\n",
    "\n",
    "plt.xlabel('400m (performance standardisée)')\n",
    "plt.ylabel('Lancer du poids (performance standardisée)')"
   ]
  },
  {
   "cell_type": "markdown",
   "metadata": {},
   "source": [
    "__Question :__ Ce nuage de points vous semble-t-il suggérer que les deux performances sont corrélées ?"
   ]
  },
  {
   "cell_type": "markdown",
   "metadata": {},
   "source": [
    "__Réponse :__  Non on dirait que c'est totalement décorrélé"
   ]
  },
  {
   "cell_type": "markdown",
   "metadata": {},
   "source": [
    "Nous pouvons calculer leur coefficient de corrélation de Pearson grâce au module `scipy.stats`. La fonction `pearsonr` renvoie même une p-valeur : https://docs.scipy.org/doc/scipy/reference/generated/scipy.stats.pearsonr.html"
   ]
  },
  {
   "cell_type": "code",
   "execution_count": 26,
   "metadata": {},
   "outputs": [],
   "source": [
    "import scipy.stats as st"
   ]
  },
  {
   "cell_type": "code",
   "execution_count": 27,
   "metadata": {},
   "outputs": [
    {
     "name": "stdout",
     "output_type": "stream",
     "text": [
      "Corrélation entre le lancer du poids et le 400m : -0.14 (p=3.88e-01)\n"
     ]
    }
   ],
   "source": [
    "r, pval = st.pearsonr(my_data['400m'], my_data['Shot.put'])\n",
    "print(\"Corrélation entre le lancer du poids et le 400m : %.2f (p=%.2e)\" % (r, pval))"
   ]
  },
  {
   "cell_type": "markdown",
   "metadata": {},
   "source": [
    "__Question :__ Cela vous semble-t-il en accord avec le nuage de points ?"
   ]
  },
  {
   "cell_type": "markdown",
   "metadata": {},
   "source": [
    "__Réponse :__ ui"
   ]
  },
  {
   "cell_type": "markdown",
   "metadata": {},
   "source": [
    "__Question :__ Choisissez deux variables dont il vous semble vraisemblable qu'elles soient corrélées. Affichez le nuage de points correspondant. Calculez le coefficient de corrélation de Pearson. Souhaitez-vous rejeter votre hypothèse ?"
   ]
  },
  {
   "cell_type": "code",
   "execution_count": 40,
   "metadata": {},
   "outputs": [
    {
     "name": "stdout",
     "output_type": "stream",
     "text": [
      "Corrélation entre le 110m haies et le 400m : 0.55 (p=2.08e-04)\n",
      "les deux variables semblent corrélées\n"
     ]
    },
    {
     "data": {
      "image/png": "[encoded data removed]",
      "text/plain": [
       "<Figure size 360x360 with 1 Axes>"
      ]
     },
     "metadata": {
      "needs_background": "light"
     },
     "output_type": "display_data"
    }
   ],
   "source": [
    "#__Réponse :__ \n",
    "fig = plt.figure(figsize = (5,5))\n",
    "\n",
    "r400m_std = ((my_data['400m']-np.mean(my_data['400m']))/np.std(my_data['400m']))\n",
    "             \n",
    "r110mhurdle_std = (my_data['110m.hurdle']-np.mean(my_data['110m.hurdle']))/np.std(my_data['110m.hurdle'])\n",
    "\n",
    "plt.scatter(r400m_std,r110mhurdle_std, s=50)\n",
    "\n",
    "r, pval = st.pearsonr(my_data['400m'], my_data['110m.hurdle'])\n",
    "print(\"Corrélation entre le 110m haies et le 400m : %.2f (p=%.2e)\" % (r, pval))\n",
    "\n",
    "print('les deux variables semblent corrélées')"
   ]
  },
  {
   "cell_type": "markdown",
   "metadata": {},
   "source": [
    "### 3.2 [Pour aller plus loin] Matrice de nuages de points avec pandas\n",
    "Une matrice de nuages de points est une visualisation en k x k panneaux des relations deux à deux entre k variables :\n",
    "* sur la diagonale, l'histogramme pour chacune des variables \n",
    "* hors diagonale, les nuages de points entre deux variables (non standardisées).\n",
    "\n",
    "https://pandas.pydata.org/pandas-docs/stable/reference/api/pandas.plotting.scatter_matrix.html"
   ]
  },
  {
   "cell_type": "code",
   "execution_count": 41,
   "metadata": {
    "jupyter": {
     "outputs_hidden": false
    }
   },
   "outputs": [
    {
     "data": {
      "image/png": "[encoded data removed]",
      "text/plain": [
       "<Figure size 576x576 with 9 Axes>"
      ]
     },
     "metadata": {
      "needs_background": "light"
     },
     "output_type": "display_data"
    }
   ],
   "source": [
    "from pandas.plotting import scatter_matrix\n",
    "\n",
    "scatter_matrix(my_data[['Shot.put','High.jump', '400m']], alpha=0.5, s=60,\n",
    "               figsize=(8, 8));"
   ]
  },
  {
   "cell_type": "markdown",
   "metadata": {},
   "source": [
    "### 3.3 [Pour aller plus loin] Seaborn\n",
    "La librairie `seaborn` permet des visualisations plus élaborées que `matplotlib`. Vous pouvez par exemple explorer les capacités de `jointplot`. \n",
    "https://seaborn.pydata.org/generated/seaborn.jointplot.html"
   ]
  },
  {
   "cell_type": "code",
   "execution_count": 43,
   "metadata": {
    "jupyter": {
     "outputs_hidden": false
    }
   },
   "outputs": [
    {
     "name": "stderr",
     "output_type": "stream",
     "text": [
      "c:\\users\\raphael\\miniconda3\\envs\\pas1\\lib\\site-packages\\seaborn\\apionly.py:9: UserWarning: As seaborn no longer sets a default style on import, the seaborn.apionly module is deprecated. It will be removed in a future version.\n",
      "  warnings.warn(msg, UserWarning)\n",
      "c:\\users\\raphael\\miniconda3\\envs\\pas1\\lib\\site-packages\\seaborn\\axisgrid.py:2264: UserWarning: The `size` parameter has been renamed to `height`; please update your code.\n",
      "  warnings.warn(msg, UserWarning)\n"
     ]
    },
    {
     "data": {
      "text/plain": [
       "<seaborn.axisgrid.JointGrid at 0x2346c156448>"
      ]
     },
     "execution_count": 43,
     "metadata": {},
     "output_type": "execute_result"
    },
    {
     "data": {
      "image/png": "[encoded data removed]",
      "text/plain": [
       "<Figure size 432x432 with 3 Axes>"
      ]
     },
     "metadata": {},
     "output_type": "display_data"
    },
    {
     "data": {
      "image/png": "[encoded data removed]",
      "text/plain": [
       "<Figure size 432x432 with 3 Axes>"
      ]
     },
     "metadata": {},
     "output_type": "display_data"
    }
   ],
   "source": [
    "# fancier plot with seaborn : https://seaborn.pydata.org/\n",
    "import seaborn.apionly as sns\n",
    "sns.set_style('whitegrid')\n",
    "\n",
    "sns.jointplot('Shot.put', '400m', data = my_data, \n",
    "              size=6, space=0, color='b')\n",
    "\n",
    "sns.jointplot('Shot.put', '400m', data = my_data, \n",
    "              kind='reg', size=6, space=0, color='b')"
   ]
  },
  {
   "cell_type": "markdown",
   "metadata": {},
   "source": [
    "## 4. ACP des scores aux 10 épreuves\n",
    "\n",
    "Nous allons maintenant effectuer une analyse en composantes principales des scores aux 10 épreuves."
   ]
  },
  {
   "cell_type": "markdown",
   "metadata": {},
   "source": [
    "### 4.1 Création de l'array numpy correspondant"
   ]
  },
  {
   "cell_type": "code",
   "execution_count": 48,
   "metadata": {},
   "outputs": [
    {
     "name": "stdout",
     "output_type": "stream",
     "text": [
      "(41, 10)\n"
     ]
    }
   ],
   "source": [
    "X = np.array(my_data.drop(columns=['Points', 'Rank', 'Competition']))\n",
    "\n",
    "print(X.shape)"
   ]
  },
  {
   "cell_type": "markdown",
   "metadata": {},
   "source": [
    "__Question :__ \n",
    "* Quel est le nombre d'individus dans la matrice de données `X` ?\n",
    "* Quel est le nombre de variables dans la matrice de données `X` ?"
   ]
  },
  {
   "cell_type": "markdown",
   "metadata": {},
   "source": [
    "__Réponse :__  41 et 10\n"
   ]
  },
  {
   "cell_type": "markdown",
   "metadata": {},
   "source": [
    "### 4.2 Standardisation des données\n",
    "\n",
    "Plus haut, nous avons standardisé les variables nous-mêmes en leur retirant leur moyenne et en les divisant par leur écart-type. Cette tâche est entièrement automatisée par `scikit-learn` :\n",
    "https://scikit-learn.org/stable/modules/generated/sklearn.preprocessing.StandardScaler.html"
   ]
  },
  {
   "cell_type": "code",
   "execution_count": 49,
   "metadata": {},
   "outputs": [],
   "source": [
    "from sklearn import preprocessing"
   ]
  },
  {
   "cell_type": "code",
   "execution_count": 53,
   "metadata": {},
   "outputs": [],
   "source": [
    "std_scale = preprocessing.StandardScaler().fit(X)\n",
    "X_scaled = std_scale.transform(X)\n",
    "\n"
   ]
  },
  {
   "cell_type": "markdown",
   "metadata": {},
   "source": [
    "### 4.3 Calcul des composantes principales\n",
    "\n",
    "Les algorithmes de factorisation de matrice de `scikit-learn` sont inclus dans le module `decomposition`. Pour  l'ACP, référez-vous à : \n",
    "http://scikit-learn.org/stable/modules/generated/sklearn.decomposition.PCA.html"
   ]
  },
  {
   "cell_type": "code",
   "execution_count": 54,
   "metadata": {},
   "outputs": [],
   "source": [
    "from sklearn import decomposition"
   ]
  },
  {
   "cell_type": "markdown",
   "metadata": {},
   "source": [
    "Remarque : Nous avons ici peu de variables et pouvons nous permettre de calculer toutes les PC. \n",
    "\n",
    "La plupart des algorithmes implémentés dans `scikit-learn` suivent le fonctionnement suivant : \n",
    "* on instancie un objet, correspondant à un type d'algorithme/modèle, avec ses hyperparamètres (ici le nombre de composantes)\n",
    "* on utilise la méthode `fit` pour passer les données à cet algorithme\n",
    "* les paramètres appris sont maintenant accessibles comme arguments de cet objet."
   ]
  },
  {
   "cell_type": "code",
   "execution_count": 55,
   "metadata": {},
   "outputs": [
    {
     "name": "stdout",
     "output_type": "stream",
     "text": [
      "<class 'sklearn.decomposition._pca.PCA'>\n"
     ]
    }
   ],
   "source": [
    "# Instanciation d'un objet PCA pour 10 composantes principales\n",
    "pca = decomposition.PCA(n_components=10)\n",
    "print(type(pca))"
   ]
  },
  {
   "cell_type": "code",
   "execution_count": 56,
   "metadata": {},
   "outputs": [
    {
     "data": {
      "text/plain": [
       "PCA(n_components=10)"
      ]
     },
     "execution_count": 56,
     "metadata": {},
     "output_type": "execute_result"
    }
   ],
   "source": [
    "# On passe maintenant les données standardisées à cet objet\n",
    "# C'est ici que se font les calculs\n",
    "pca.fit(X_scaled)"
   ]
  },
  {
   "cell_type": "markdown",
   "metadata": {},
   "source": [
    "### 4.4 Proportion de variance expliquée par les PCs\n",
    "\n",
    "Nous allons maintenant afficher la proportion de variance expliquée par les différentes composantes. Il est accessible dans le paramètre `explained_variance_ration_` de notre objet `pca`."
   ]
  },
  {
   "cell_type": "code",
   "execution_count": 57,
   "metadata": {},
   "outputs": [
    {
     "data": {
      "text/plain": [
       "Text(0, 0.5, 'Proportion de variance expliquée')"
      ]
     },
     "execution_count": 57,
     "metadata": {},
     "output_type": "execute_result"
    },
    {
     "data": {
      "image/png": "[encoded data removed]",
      "text/plain": [
       "<Figure size 432x288 with 1 Axes>"
      ]
     },
     "metadata": {},
     "output_type": "display_data"
    }
   ],
   "source": [
    "plt.plot(np.arange(10), pca.explained_variance_ratio_, marker='o')\n",
    "\n",
    "plt.xlabel(\"Nombre de composantes principales\")\n",
    "plt.ylabel(\"Proportion de variance expliquée\")"
   ]
  },
  {
   "cell_type": "markdown",
   "metadata": {},
   "source": [
    "__Question :__ Affichez la proportion *cumulative* de variance expliquée"
   ]
  },
  {
   "cell_type": "code",
   "execution_count": 63,
   "metadata": {},
   "outputs": [
    {
     "data": {
      "text/plain": [
       "Text(0, 0.5, 'Proportion cumulative de variance expliquée')"
      ]
     },
     "execution_count": 63,
     "metadata": {},
     "output_type": "execute_result"
    },
    {
     "data": {
      "image/png": "[encoded data removed]",
      "text/plain": [
       "<Figure size 432x288 with 1 Axes>"
      ]
     },
     "metadata": {},
     "output_type": "display_data"
    }
   ],
   "source": [
    "# __Réponse :__\n",
    "\n",
    "cumulativ_variance_ratio = np.zeros(10)\n",
    "s=0\n",
    "for i,x in enumerate(pca.explained_variance_ratio_):\n",
    "    s+=x\n",
    "    cumulativ_variance_ratio[i] = s\n",
    "    \n",
    "plt.plot(np.arange(10),cumulativ_variance_ratio, marker='o')\n",
    "\n",
    "plt.xlabel(\"Nombre de composantes principales\")\n",
    "plt.ylabel(\"Proportion cumulative de variance expliquée\")"
   ]
  },
  {
   "cell_type": "markdown",
   "metadata": {},
   "source": [
    "__Questions :__ \n",
    "* Quelle est la proportion de variance expliquée par les deux premières composantes ? \n",
    "* Combien de composantes faudrait-il utiliser pour expliquer 80% de la variance des données ?"
   ]
  },
  {
   "cell_type": "markdown",
   "metadata": {},
   "source": [
    "__Réponse :__"
   ]
  },
  {
   "cell_type": "markdown",
   "metadata": {},
   "source": [
    "### 4.5 Projection des données sur les deux premières composantes principales\n",
    "\n",
    "Nous allons maintenant utiliser uniquement les deux premières composantes principales.\n",
    "\n",
    "Commençons par calculer la nouvelle représentation des données, c'est-à-dire leur projection sur ces deux PC. "
   ]
  },
  {
   "cell_type": "code",
   "execution_count": 64,
   "metadata": {},
   "outputs": [
    {
     "name": "stdout",
     "output_type": "stream",
     "text": [
      "(41, 2)\n"
     ]
    }
   ],
   "source": [
    "pca = decomposition.PCA(n_components=2)\n",
    "pca.fit(X_scaled)\n",
    "X_projected = pca.transform(X_scaled)\n",
    "print(X_projected.shape)"
   ]
  },
  {
   "cell_type": "markdown",
   "metadata": {},
   "source": [
    "__Question :__ Affichez un nuage de point représentant les données selon ces deux PC."
   ]
  },
  {
   "cell_type": "code",
   "execution_count": 71,
   "metadata": {},
   "outputs": [
    {
     "data": {
      "text/plain": [
       "<matplotlib.collections.PathCollection at 0x2346bfa6708>"
      ]
     },
     "execution_count": 71,
     "metadata": {},
     "output_type": "execute_result"
    },
    {
     "data": {
      "image/png": "[encoded data removed]",
      "text/plain": [
       "<Figure size 432x288 with 1 Axes>"
      ]
     },
     "metadata": {},
     "output_type": "display_data"
    }
   ],
   "source": [
    "#__Réponse :__\n",
    "plt.scatter(X_projected[:, 0], X_projected[:, 1], c=my_data[\"Rank\"], cmap=plt.get_cmap(\"viridis\"))"
   ]
  },
  {
   "cell_type": "markdown",
   "metadata": {},
   "source": [
    "__Question :__ Colorez chaque point du nuage de points ci-dessus en fonction du classement de l'athlète qu'il représente. Qu'en conclure sur l'interprétation de la PC1 ?"
   ]
  },
  {
   "cell_type": "markdown",
   "metadata": {},
   "source": [
    "__Réponse :__ la premiere dimension polarise les athletes performants"
   ]
  },
  {
   "cell_type": "markdown",
   "metadata": {},
   "source": [
    "### 4.6 Interprétation des deux composantes principales\n",
    "Chaque composante principale est une combinaison linéaire des variables décrivant les données. Les poids de cette combinaison linéaire sont accesibles dans `pca.components_`.\n",
    "\n",
    "Nous pouvons visualiser non pas les individus, mais les 10 variables dans l'espace des 2 composantes principales."
   ]
  },
  {
   "cell_type": "code",
   "execution_count": 72,
   "metadata": {},
   "outputs": [
    {
     "name": "stdout",
     "output_type": "stream",
     "text": [
      "[-0.42829627  0.41015201  0.34414444  0.31619436 -0.3757157  -0.41255442\n",
      "  0.30542571  0.02783081  0.15319802 -0.03210733]\n"
     ]
    }
   ],
   "source": [
    "pcs = pca.components_\n",
    "print(pcs[0])"
   ]
  },
  {
   "cell_type": "code",
   "execution_count": 73,
   "metadata": {},
   "outputs": [
    {
     "data": {
      "text/plain": [
       "Text(0, 0.5, 'Contribution à la PC2')"
      ]
     },
     "execution_count": 73,
     "metadata": {},
     "output_type": "execute_result"
    },
    {
     "data": {
      "image/png": "[encoded data removed]",
      "text/plain": [
       "<Figure size 432x432 with 1 Axes>"
      ]
     },
     "metadata": {},
     "output_type": "display_data"
    }
   ],
   "source": [
    "fig = plt.figure(figsize=(6, 6))\n",
    "\n",
    "plt.scatter(pcs[0], pcs[1])\n",
    "for (x_coordinate, y_coordinate, feature_name) in zip(pcs[0], pcs[1], my_data.columns[:10]):\n",
    "    plt.text(x_coordinate, y_coordinate, feature_name)                          \n",
    "    \n",
    "plt.xlabel(\"Contribution à la PC1\")\n",
    "plt.ylabel(\"Contribution à la PC2\")"
   ]
  },
  {
   "cell_type": "markdown",
   "metadata": {},
   "source": [
    "__Question :__ Quelles variables ont des contributions très similaires aux deux composantes principales ? Qu'en déduire sur leur similarité ?"
   ]
  },
  {
   "cell_type": "markdown",
   "metadata": {},
   "source": [
    "__Réponse :__ "
   ]
  },
  {
   "cell_type": "markdown",
   "metadata": {},
   "source": [
    "__Question :__ Comment interpréter le signe des contributions des variables à la première composantes principales ?"
   ]
  },
  {
   "cell_type": "markdown",
   "metadata": {},
   "source": [
    "__Réponse :__  "
   ]
  },
  {
   "cell_type": "markdown",
   "metadata": {},
   "source": [
    "__Question facultative :__ Comment les valeurs de `pca.explained_variance_ratio_` sont-elles obtenues ? Refaites le calcul vous-mêmes."
   ]
  },
  {
   "cell_type": "markdown",
   "metadata": {},
   "source": [
    "## 5 [Pour aller plus loin] Implémentation de l'ACP\n",
    "Cette partie s'inspire d'un notebook proposé par Joseph Boyd et Benoît Playe."
   ]
  },
  {
   "cell_type": "markdown",
   "metadata": {},
   "source": [
    "## 5.1 Décomposition spectrale de la matrice de covariance\n",
    "\n",
    "Les deux premières composantes principales de X sont les deux vecteurs propres correspondant aux deux plus grandes valeurs propres de la matrice de covariance $\\Sigma = \\frac1n X^\\top X.$"
   ]
  },
  {
   "cell_type": "markdown",
   "metadata": {},
   "source": [
    "__Question :__ Utilisez `nunpy.linalg` pour calculer les deux premières composantes principales de X. N'oubliez pas de travailler sur `X_scaled`. Comparez les à celles obtenues dans `pca.components_`."
   ]
  },
  {
   "cell_type": "markdown",
   "metadata": {},
   "source": [
    "__Question :__ Calculez la nouvelle représentation en deux dimensions des données. Comparez à celle obtenue dans `pca.components_`."
   ]
  },
  {
   "cell_type": "markdown",
   "metadata": {},
   "source": [
    "## 5.2 Décomposition en valeurs singulières"
   ]
  },
  {
   "cell_type": "markdown",
   "metadata": {},
   "source": [
    "__Question :__ Utiliser `linalg.svd` pour retrouver les deux premières composantes principales. Comparer."
   ]
  }
 ],
 "metadata": {
  "kernelspec": {
   "display_name": "Python 3",
   "language": "python",
   "name": "python3"
  },
  "language_info": {
   "codemirror_mode": {
    "name": "ipython",
    "version": 3
   },
   "file_extension": ".py",
   "mimetype": "text/x-python",
   "name": "python",
   "nbconvert_exporter": "python",
   "pygments_lexer": "ipython3",
   "version": "3.7.4"
  }
 },
 "nbformat": 4,
 "nbformat_minor": 4
}
